{
 "cells": [
  {
   "cell_type": "code",
   "execution_count": 1,
   "id": "9c39d991-86e5-4b8d-a4ca-f82739a52739",
   "metadata": {},
   "outputs": [],
   "source": [
    "##Header"
   ]
  },
  {
   "cell_type": "markdown",
   "id": "00135ced-b7f7-4ec3-b8be-1961117ce06c",
   "metadata": {},
   "source": [
    "##Header"
   ]
  },
  {
   "cell_type": "code",
   "execution_count": 2,
   "id": "6707cd8b-0ccd-4b0e-9c78-1346fe4155e9",
   "metadata": {},
   "outputs": [],
   "source": [
    "##Header"
   ]
  },
  {
   "cell_type": "markdown",
   "id": "b0e10ae2-9326-4379-954d-060759d32f51",
   "metadata": {},
   "source": [
    "## Header"
   ]
  },
  {
   "cell_type": "markdown",
   "id": "aed0c5ad-9317-4584-8163-f440e0155977",
   "metadata": {},
   "source": [
    "##Header"
   ]
  },
  {
   "cell_type": "code",
   "execution_count": null,
   "id": "df0aac30-5932-49b9-aa25-ee6deb1754d6",
   "metadata": {},
   "outputs": [],
   "source": []
  }
 ],
 "metadata": {
  "kernelspec": {
   "display_name": "Python 3 (ipykernel)",
   "language": "python",
   "name": "python3"
  },
  "language_info": {
   "codemirror_mode": {
    "name": "ipython",
    "version": 3
   },
   "file_extension": ".py",
   "mimetype": "text/x-python",
   "name": "python",
   "nbconvert_exporter": "python",
   "pygments_lexer": "ipython3",
   "version": "3.12.4"
  }
 },
 "nbformat": 4,
 "nbformat_minor": 5
}
